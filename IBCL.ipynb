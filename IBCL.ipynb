{
  "cells": [
    {
      "cell_type": "code",
      "execution_count": 1,
      "metadata": {
        "id": "71P4avFut2Jl"
      },
      "outputs": [],
      "source": [
        "import os\n",
        "import cv2\n",
        "import numpy as np\n",
        "from tqdm import tqdm\n",
        "from sklearn.model_selection import train_test_split\n",
        "from sklearn.utils import shuffle\n",
        "import tensorflow as tf\n",
        "from tensorflow.keras.models import Sequential\n",
        "from tensorflow.keras.layers import Conv2D, MaxPooling2D, Flatten, Dense, Dropout, BatchNormalization\n",
        "from tensorflow.keras.utils import to_categorical\n",
        "from tensorflow.keras.optimizers import Adam\n",
        "from tensorflow.keras.preprocessing.image import ImageDataGenerator\n",
        "from tensorflow.keras.callbacks import ReduceLROnPlateau, EarlyStopping\n",
        "from google.colab import drive"
      ]
    },
    {
      "cell_type": "code",
      "execution_count": 2,
      "metadata": {
        "colab": {
          "base_uri": "https://localhost:8080/"
        },
        "id": "gTHE5P5nvRFn",
        "outputId": "0903117d-a56c-4231-b400-d40e9d89c1c7"
      },
      "outputs": [
        {
          "output_type": "stream",
          "name": "stdout",
          "text": [
            "Mounted at /content/drive\n"
          ]
        }
      ],
      "source": [
        "# Step 1: Mount Google Drive\n",
        "drive.mount('/content/drive')\n",
        "\n",
        "# Step 2: Define dataset paths\n",
        "base_path = \"/content/drive/My Drive/Dataset\"\n",
        "folders = [\"Armyworms\", \"Cabbage Loopers\"]\n",
        "folder_paths = [os.path.join(base_path, folder) for folder in folders]\n",
        "\n",
        "# Step 3: Initialize images and labels lists\n",
        "images = []\n",
        "labels = []"
      ]
    },
    {
      "cell_type": "code",
      "execution_count": 3,
      "metadata": {
        "colab": {
          "base_uri": "https://localhost:8080/"
        },
        "id": "GPj7or1-ixzy",
        "outputId": "08fea4b4-6f2f-4413-c67c-90fbe91ad703"
      },
      "outputs": [
        {
          "output_type": "stream",
          "name": "stderr",
          "text": [
            "Loading Armyworms: 100%|██████████| 96/96 [01:10<00:00,  1.36it/s]\n",
            "Loading Cabbage Loopers: 100%|██████████| 104/104 [00:18<00:00,  5.68it/s]"
          ]
        },
        {
          "output_type": "stream",
          "name": "stdout",
          "text": [
            "[0 0 0 0 0 0 0 0 0 0 0 0 0 0 0 0 0 0 0 0 0 0 0 0 0 0 0 0 0 0 0 0 0 0 0 0 0\n",
            " 0 0 0 0 0 0 0 0 0 0 0 0 0 0 0 0 0 0 0 0 0 0 0 0 0 0 0 0 0 0 0 0 0 0 0 0 0\n",
            " 0 0 0 0 0 0 0 0 0 0 0 0 0 0 0 0 0 0 0 0 0 1 1 1 1 1 1 1 1 1 1 1 1 1 1 1 1\n",
            " 1 1 1 1 1 1 1 1 1 1 1 1 1 1 1 1 1 1 1 1 1 1 1 1 1 1 1 1 1 1 1 1 1 1 1 1 1\n",
            " 1 1 1 1 1 1 1 1 1 1 1 1 1 1 1 1 1 1 1 1 1 1 1 1 1 1 1 1 1 1 1 1 1 1 1 1 1\n",
            " 1 1 1 1 1 1 1 1 1 1 1 1 1 1]\n"
          ]
        },
        {
          "output_type": "stream",
          "name": "stderr",
          "text": [
            "\n"
          ]
        }
      ],
      "source": [
        "# Step 4: Function to load images\n",
        "def load_images_from_folder(folder_path, label, images_list, labels_list):\n",
        "    for filename in tqdm(os.listdir(folder_path), desc=f\"Loading {os.path.basename(folder_path)}\"):\n",
        "        file_path = os.path.join(folder_path, filename)\n",
        "        img = cv2.imread(file_path)\n",
        "\n",
        "        if img is not None:\n",
        "            img = cv2.cvtColor(img, cv2.COLOR_BGR2RGB)  # Convert to RGB\n",
        "            img = cv2.resize(img, (224, 224))  # Resize to (224, 224)\n",
        "            images_list.append(img)\n",
        "            labels_list.append(label)\n",
        "\n",
        "# Step 5: Load images with labels\n",
        "for label, folder in enumerate(folder_paths):\n",
        "    load_images_from_folder(folder, label, images, labels)\n",
        "\n",
        "# Step 6: Convert lists to NumPy arrays and normalize\n",
        "images = np.array(images, dtype=np.float32) / 255.0  # Normalize pixel values\n",
        "labels = np.array(labels)\n",
        "print(labels)"
      ]
    },
    {
      "cell_type": "code",
      "execution_count": 4,
      "metadata": {
        "id": "nKi7HEy8pnqt",
        "colab": {
          "base_uri": "https://localhost:8080/"
        },
        "outputId": "6b105ea4-70b1-4a16-c5cf-b97c6c13d9c0"
      },
      "outputs": [
        {
          "output_type": "stream",
          "name": "stdout",
          "text": [
            "Labels: [0 0 1 1 0 1 0 0 1 1 1 1 0 0 0 0 0 0 0 1 0 1 1 1 0 1 1 0 0 1 1 0 1 1 1 0 1\n",
            " 1 0 0 1 0 0 1 1 0 0 1 1 1 0 0 1 1 0 1 1 1 1 1 1 0 0 0 1 0 0 1 1 0 1 1 0 1\n",
            " 1 0 1 1 1 0 0 0 1 1 1 0 0 0 1 1 0 0 1 1 0 0 1 0 0 1 1 1 1 0 0 1 1 0 1 1 0\n",
            " 1 0 0 1 0 0 1 1 1 0 0 1 1 0 1 0 0 0 1 0 0 1 0 1 0 1 0 1 1 1 1 0 0 0 0 1 0\n",
            " 0 1 1 0 0 0 0 1 1 0 0 1 1 1 1 0 0 1 0 1 0 0 0 0 0 1 1 1 0 1 1 0 0 1 1 1 1\n",
            " 1 1 0 0 1 1 0 1 0 1 0 0 1 1]\n"
          ]
        }
      ],
      "source": [
        "# Step 7: Shuffle\n",
        "images, labels = shuffle(images, labels, random_state=42)\n",
        "\n",
        "# Step 8: Confirm labels\n",
        "print(\"Labels:\", labels)\n",
        "\n",
        "# Step 9: Split\n",
        "X_train, X_test, y_train, y_test = train_test_split(images, labels, test_size=0.2, random_state=42)\n",
        "\n"
      ]
    },
    {
      "cell_type": "code",
      "execution_count": 5,
      "metadata": {
        "colab": {
          "base_uri": "https://localhost:8080/"
        },
        "id": "QNN-3dNLpp3U",
        "outputId": "561e580b-3be3-40ec-b609-ba25f12fffea"
      },
      "outputs": [
        {
          "output_type": "stream",
          "name": "stdout",
          "text": [
            "X_train shape: (159, 224, 224, 3), y_train shape: (159,)\n",
            "X_test shape: (40, 224, 224, 3), y_test shape: (40,)\n"
          ]
        }
      ],
      "source": [
        "# Verify the shapes\n",
        "print(f\"X_train shape: {X_train.shape}, y_train shape: {y_train.shape}\")\n",
        "print(f\"X_test shape: {X_test.shape}, y_test shape: {y_test.shape}\")\n",
        "datagen = ImageDataGenerator(\n",
        "    rotation_range=20,  # Rotate images up to 20 degrees\n",
        "    width_shift_range=0.1,  # Shift width by 10%\n",
        "    height_shift_range=0.1,  # Shift height by 10%\n",
        "    shear_range=0.1,  # Shear transformation\n",
        "    zoom_range=0.1,  # Zoom up to 10%\n",
        "    horizontal_flip=True,  # Flip images horizontally\n",
        "    fill_mode='nearest'  # Fill missing pixels with nearest value\n",
        ")"
      ]
    },
    {
      "cell_type": "code",
      "execution_count": 6,
      "metadata": {
        "colab": {
          "base_uri": "https://localhost:8080/"
        },
        "id": "-96Q9-kFVzVR",
        "outputId": "139e4520-2b6b-4b0f-a65e-36d34e445f83"
      },
      "outputs": [
        {
          "output_type": "stream",
          "name": "stderr",
          "text": [
            "/usr/local/lib/python3.11/dist-packages/keras/src/layers/convolutional/base_conv.py:107: UserWarning: Do not pass an `input_shape`/`input_dim` argument to a layer. When using Sequential models, prefer using an `Input(shape)` object as the first layer in the model instead.\n",
            "  super().__init__(activity_regularizer=activity_regularizer, **kwargs)\n"
          ]
        },
        {
          "output_type": "stream",
          "name": "stdout",
          "text": [
            "Epoch 1/10\n",
            "\u001b[1m5/5\u001b[0m \u001b[32m━━━━━━━━━━━━━━━━━━━━\u001b[0m\u001b[37m\u001b[0m \u001b[1m82s\u001b[0m 16s/step - accuracy: 0.5018 - loss: 3.3124 - val_accuracy: 0.4750 - val_loss: 1.5468\n",
            "Epoch 2/10\n",
            "\u001b[1m5/5\u001b[0m \u001b[32m━━━━━━━━━━━━━━━━━━━━\u001b[0m\u001b[37m\u001b[0m \u001b[1m78s\u001b[0m 16s/step - accuracy: 0.5478 - loss: 1.0239 - val_accuracy: 0.5250 - val_loss: 0.7447\n",
            "Epoch 3/10\n",
            "\u001b[1m5/5\u001b[0m \u001b[32m━━━━━━━━━━━━━━━━━━━━\u001b[0m\u001b[37m\u001b[0m \u001b[1m81s\u001b[0m 16s/step - accuracy: 0.5273 - loss: 0.7207 - val_accuracy: 0.4750 - val_loss: 0.6933\n",
            "Epoch 4/10\n",
            "\u001b[1m5/5\u001b[0m \u001b[32m━━━━━━━━━━━━━━━━━━━━\u001b[0m\u001b[37m\u001b[0m \u001b[1m90s\u001b[0m 17s/step - accuracy: 0.5141 - loss: 0.6928 - val_accuracy: 0.4750 - val_loss: 0.6936\n",
            "Epoch 5/10\n",
            "\u001b[1m5/5\u001b[0m \u001b[32m━━━━━━━━━━━━━━━━━━━━\u001b[0m\u001b[37m\u001b[0m \u001b[1m146s\u001b[0m 17s/step - accuracy: 0.5515 - loss: 0.6924 - val_accuracy: 0.4750 - val_loss: 0.6943\n",
            "Epoch 6/10\n",
            "\u001b[1m5/5\u001b[0m \u001b[32m━━━━━━━━━━━━━━━━━━━━\u001b[0m\u001b[37m\u001b[0m \u001b[1m137s\u001b[0m 17s/step - accuracy: 0.5063 - loss: 0.6931 - val_accuracy: 0.4750 - val_loss: 0.6948\n",
            "Epoch 7/10\n",
            "\u001b[1m5/5\u001b[0m \u001b[32m━━━━━━━━━━━━━━━━━━━━\u001b[0m\u001b[37m\u001b[0m \u001b[1m136s\u001b[0m 15s/step - accuracy: 0.5580 - loss: 0.6910 - val_accuracy: 0.4750 - val_loss: 0.6956\n",
            "Epoch 8/10\n",
            "\u001b[1m5/5\u001b[0m \u001b[32m━━━━━━━━━━━━━━━━━━━━\u001b[0m\u001b[37m\u001b[0m \u001b[1m83s\u001b[0m 16s/step - accuracy: 0.5588 - loss: 0.6896 - val_accuracy: 0.4750 - val_loss: 0.6963\n",
            "Epoch 9/10\n",
            "\u001b[1m5/5\u001b[0m \u001b[32m━━━━━━━━━━━━━━━━━━━━\u001b[0m\u001b[37m\u001b[0m \u001b[1m80s\u001b[0m 15s/step - accuracy: 0.5337 - loss: 0.6921 - val_accuracy: 0.4750 - val_loss: 0.6967\n",
            "Epoch 10/10\n",
            "\u001b[1m5/5\u001b[0m \u001b[32m━━━━━━━━━━━━━━━━━━━━\u001b[0m\u001b[37m\u001b[0m \u001b[1m90s\u001b[0m 17s/step - accuracy: 0.5219 - loss: 0.6925 - val_accuracy: 0.4750 - val_loss: 0.6969\n",
            "\u001b[1m2/2\u001b[0m \u001b[32m━━━━━━━━━━━━━━━━━━━━\u001b[0m\u001b[37m\u001b[0m \u001b[1m7s\u001b[0m 2s/step - accuracy: 0.4729 - loss: 0.6971\n"
          ]
        },
        {
          "output_type": "stream",
          "name": "stderr",
          "text": [
            "WARNING:absl:You are saving your model as an HDF5 file via `model.save()` or `keras.saving.save_model(model)`. This file format is considered legacy. We recommend using instead the native Keras format, e.g. `model.save('my_model.keras')` or `keras.saving.save_model(model, 'my_model.keras')`. \n"
          ]
        },
        {
          "output_type": "stream",
          "name": "stdout",
          "text": [
            "Test Accuracy: 0.47\n",
            "Custom CNN Model saved successfully!\n"
          ]
        }
      ],
      "source": [
        "# Step 10: Build Custom CNN Model\n",
        "model = Sequential([\n",
        "    # First Conv Block\n",
        "    Conv2D(128, (5, 5), activation='relu', input_shape=(224, 224, 3)),\n",
        "    MaxPooling2D(pool_size=(2, 2)),\n",
        "\n",
        "    # Second Conv Block\n",
        "    Conv2D(64, (5, 5), activation='relu'),\n",
        "    MaxPooling2D(pool_size=(2, 2)),\n",
        "\n",
        "    # Third Conv Block\n",
        "    Conv2D(32, (5, 5), activation='relu'),\n",
        "    MaxPooling2D(pool_size=(2, 2)),\n",
        "\n",
        "    # Flatten and Fully Connected Layers\n",
        "    Flatten(),\n",
        "    Dense(256, activation='relu'),\n",
        "    Dropout(0.3),  # Reduces overfitting\n",
        "    Dense(1, activation='sigmoid')  # Output Layer\n",
        "])\n",
        "\n",
        "# Step 11: Compile Model\n",
        "learning_rate = 0.004  # Custom learning rate\n",
        "optimizer = Adam(learning_rate=learning_rate)\n",
        "model.compile(optimizer=optimizer, loss='binary_crossentropy', metrics=['accuracy'])\n",
        "\n",
        "# Step 12: Train Model\n",
        "history = model.fit(X_train, y_train, epochs=10, batch_size=32, validation_data=(X_test, y_test))\n",
        "\n",
        "# Step 13: Evaluate Model\n",
        "test_loss, test_acc = model.evaluate(X_test, y_test)\n",
        "print(f\"Test Accuracy: {test_acc:.2f}\")\n",
        "\n",
        "# Step 14: Save Model\n",
        "model.save(\"/content/drive/My Drive/Dataset/new_cnn_model.h5\")\n",
        "print(\"Custom CNN Model saved successfully!\")"
      ]
    },
    {
      "cell_type": "code",
      "execution_count": 6,
      "metadata": {
        "id": "Lt575QvgacqN"
      },
      "outputs": [],
      "source": []
    }
  ],
  "metadata": {
    "colab": {
      "provenance": []
    },
    "kernelspec": {
      "display_name": "Python 3",
      "name": "python3"
    },
    "language_info": {
      "name": "python"
    }
  },
  "nbformat": 4,
  "nbformat_minor": 0
}